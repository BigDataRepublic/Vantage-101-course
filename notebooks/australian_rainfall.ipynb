{
 "cells": [
  {
   "cell_type": "markdown",
   "metadata": {},
   "source": [
    "# 0.1 Import Requirements"
   ]
  },
  {
   "cell_type": "markdown",
   "metadata": {},
   "source": [
    "Before we start, we need to import some libraries. You should be familiar with most of these. If not; don't worry they aren't too complicated, reading through this notebook should help you understand.\n",
    "\n",
    "We are also going to set some options for our ```pandas``` library, so that we can scroll dataframes nicely."
   ]
  },
  {
   "cell_type": "code",
   "execution_count": 221,
   "metadata": {},
   "outputs": [],
   "source": [
    "import pandas as pd\n",
    "import numpy as np\n",
    "\n",
    "import pickle as p\n",
    "\n",
    "import seaborn as sns\n",
    "import matplotlib.pyplot as plt   \n",
    "\n",
    "from sklearn.model_selection import train_test_split\n",
    "\n",
    "from sklearn.compose import ColumnTransformer\n",
    "\n",
    "from sklearn.pipeline import Pipeline\n",
    "from sklearn.pipeline import make_pipeline\n",
    "\n",
    "from sklearn.preprocessing import OneHotEncoder\n",
    "from sklearn.preprocessing import LabelEncoder\n",
    "from sklearn.preprocessing import RobustScaler\n",
    "\n",
    "from sklearn.impute import SimpleImputer\n",
    "\n",
    "from sklearn.ensemble import RandomForestClassifier\n",
    "\n",
    "from sklearn.model_selection import RandomizedSearchCV\n",
    "\n",
    "from sklearn.metrics import accuracy_score, confusion_matrix, classification_report\n",
    "\n",
    "pd.set_option('display.max_columns', 500)"
   ]
  },
  {
   "cell_type": "markdown",
   "metadata": {},
   "source": [
    "# 0.2 Load Data"
   ]
  },
  {
   "cell_type": "markdown",
   "metadata": {},
   "source": [
    "Let's load the data. The repository we are working in should contain a ```.csv``` file in the ```/code/data``` directory. \n",
    "\n",
    "I you can't find the file, feel free to download it from here: https://www.kaggle.com/datasets/jsphyg/weather-dataset-rattle-package?resource=download"
   ]
  },
  {
   "cell_type": "code",
   "execution_count": 179,
   "metadata": {},
   "outputs": [],
   "source": [
    "# Loading a local csv file\n",
    "data = '../data/weatherAUS.csv'\n",
    "\n",
    "df = pd.read_csv(data)\n",
    "\n",
    "# Convert column names to lowecase for convenience\n",
    "df.columns = [x.lower() for x in df.columns]\n",
    "\n",
    "# Dropping rows with a missing target variable\n",
    "df = df.loc[df['raintomorrow'].notnull()]"
   ]
  },
  {
   "cell_type": "code",
   "execution_count": 180,
   "metadata": {},
   "outputs": [
    {
     "data": {
      "text/plain": [
       "date              object\n",
       "location          object\n",
       "mintemp          float64\n",
       "maxtemp          float64\n",
       "rainfall         float64\n",
       "evaporation      float64\n",
       "sunshine         float64\n",
       "windgustdir       object\n",
       "windgustspeed    float64\n",
       "winddir9am        object\n",
       "winddir3pm        object\n",
       "windspeed9am     float64\n",
       "windspeed3pm     float64\n",
       "humidity9am      float64\n",
       "humidity3pm      float64\n",
       "pressure9am      float64\n",
       "pressure3pm      float64\n",
       "cloud9am         float64\n",
       "cloud3pm         float64\n",
       "temp9am          float64\n",
       "temp3pm          float64\n",
       "raintoday         object\n",
       "raintomorrow      object\n",
       "dtype: object"
      ]
     },
     "execution_count": 180,
     "metadata": {},
     "output_type": "execute_result"
    }
   ],
   "source": [
    "# Making sure that there are no incorrectly assigned data types in the dataframe\n",
    "df.dtypes"
   ]
  },
  {
   "cell_type": "code",
   "execution_count": 181,
   "metadata": {},
   "outputs": [],
   "source": [
    "# Converting date column to correct datetime format\n",
    "df['date'] =  pd.to_datetime(df['date'], format='%Y-%m-%d')"
   ]
  },
  {
   "cell_type": "markdown",
   "metadata": {},
   "source": [
    "Before we start our analysis, it is very important to split our data into a training and test set. Any insights we pick up, however small, should not be sourced from observations in the test set.\n",
    "\n",
    "For this course we will use a 70/30 train/test split."
   ]
  },
  {
   "cell_type": "code",
   "execution_count": 182,
   "metadata": {},
   "outputs": [],
   "source": [
    "# Splitting data early to avoid data leakage\n",
    "y = df['raintomorrow']\n",
    "X = df.drop(columns=['raintomorrow'])\n",
    "\n",
    "# Splitting in train and test set on 70/30 ratio\n",
    "X_train, X_test, y_train, y_test = train_test_split(X, y, test_size=0.3, random_state=123, shuffle=True)"
   ]
  },
  {
   "cell_type": "markdown",
   "metadata": {},
   "source": [
    "# 1.0 Exploring the Data"
   ]
  },
  {
   "cell_type": "markdown",
   "metadata": {},
   "source": [
    "First off, let's take a look at some random observations from the training set."
   ]
  },
  {
   "cell_type": "code",
   "execution_count": 183,
   "metadata": {},
   "outputs": [
    {
     "data": {
      "text/html": [
       "<div>\n",
       "<style scoped>\n",
       "    .dataframe tbody tr th:only-of-type {\n",
       "        vertical-align: middle;\n",
       "    }\n",
       "\n",
       "    .dataframe tbody tr th {\n",
       "        vertical-align: top;\n",
       "    }\n",
       "\n",
       "    .dataframe thead th {\n",
       "        text-align: right;\n",
       "    }\n",
       "</style>\n",
       "<table border=\"1\" class=\"dataframe\">\n",
       "  <thead>\n",
       "    <tr style=\"text-align: right;\">\n",
       "      <th></th>\n",
       "      <th>date</th>\n",
       "      <th>location</th>\n",
       "      <th>mintemp</th>\n",
       "      <th>maxtemp</th>\n",
       "      <th>rainfall</th>\n",
       "      <th>evaporation</th>\n",
       "      <th>sunshine</th>\n",
       "      <th>windgustdir</th>\n",
       "      <th>windgustspeed</th>\n",
       "      <th>winddir9am</th>\n",
       "      <th>winddir3pm</th>\n",
       "      <th>windspeed9am</th>\n",
       "      <th>windspeed3pm</th>\n",
       "      <th>humidity9am</th>\n",
       "      <th>humidity3pm</th>\n",
       "      <th>pressure9am</th>\n",
       "      <th>pressure3pm</th>\n",
       "      <th>cloud9am</th>\n",
       "      <th>cloud3pm</th>\n",
       "      <th>temp9am</th>\n",
       "      <th>temp3pm</th>\n",
       "      <th>raintoday</th>\n",
       "    </tr>\n",
       "  </thead>\n",
       "  <tbody>\n",
       "    <tr>\n",
       "      <th>61160</th>\n",
       "      <td>2017-06-04</td>\n",
       "      <td>Bendigo</td>\n",
       "      <td>-0.9</td>\n",
       "      <td>13.5</td>\n",
       "      <td>0.2</td>\n",
       "      <td>NaN</td>\n",
       "      <td>NaN</td>\n",
       "      <td>W</td>\n",
       "      <td>20.0</td>\n",
       "      <td>NaN</td>\n",
       "      <td>WNW</td>\n",
       "      <td>0.0</td>\n",
       "      <td>11.0</td>\n",
       "      <td>98.0</td>\n",
       "      <td>53.0</td>\n",
       "      <td>1029.6</td>\n",
       "      <td>1026.3</td>\n",
       "      <td>NaN</td>\n",
       "      <td>NaN</td>\n",
       "      <td>4.4</td>\n",
       "      <td>13.2</td>\n",
       "      <td>No</td>\n",
       "    </tr>\n",
       "    <tr>\n",
       "      <th>73623</th>\n",
       "      <td>2013-10-08</td>\n",
       "      <td>Nhil</td>\n",
       "      <td>5.9</td>\n",
       "      <td>23.0</td>\n",
       "      <td>0.0</td>\n",
       "      <td>NaN</td>\n",
       "      <td>NaN</td>\n",
       "      <td>WSW</td>\n",
       "      <td>28.0</td>\n",
       "      <td>W</td>\n",
       "      <td>NNW</td>\n",
       "      <td>6.0</td>\n",
       "      <td>11.0</td>\n",
       "      <td>90.0</td>\n",
       "      <td>49.0</td>\n",
       "      <td>1019.2</td>\n",
       "      <td>1017.2</td>\n",
       "      <td>NaN</td>\n",
       "      <td>NaN</td>\n",
       "      <td>10.2</td>\n",
       "      <td>20.7</td>\n",
       "      <td>No</td>\n",
       "    </tr>\n",
       "    <tr>\n",
       "      <th>45964</th>\n",
       "      <td>2008-11-12</td>\n",
       "      <td>Canberra</td>\n",
       "      <td>11.1</td>\n",
       "      <td>30.4</td>\n",
       "      <td>0.0</td>\n",
       "      <td>7.8</td>\n",
       "      <td>11.6</td>\n",
       "      <td>ENE</td>\n",
       "      <td>39.0</td>\n",
       "      <td>E</td>\n",
       "      <td>WNW</td>\n",
       "      <td>2.0</td>\n",
       "      <td>11.0</td>\n",
       "      <td>59.0</td>\n",
       "      <td>19.0</td>\n",
       "      <td>1019.2</td>\n",
       "      <td>1014.9</td>\n",
       "      <td>5.0</td>\n",
       "      <td>3.0</td>\n",
       "      <td>18.4</td>\n",
       "      <td>28.9</td>\n",
       "      <td>No</td>\n",
       "    </tr>\n",
       "    <tr>\n",
       "      <th>28242</th>\n",
       "      <td>2012-01-11</td>\n",
       "      <td>Richmond</td>\n",
       "      <td>17.1</td>\n",
       "      <td>27.2</td>\n",
       "      <td>0.0</td>\n",
       "      <td>6.2</td>\n",
       "      <td>NaN</td>\n",
       "      <td>WSW</td>\n",
       "      <td>70.0</td>\n",
       "      <td>WNW</td>\n",
       "      <td>WSW</td>\n",
       "      <td>11.0</td>\n",
       "      <td>37.0</td>\n",
       "      <td>37.0</td>\n",
       "      <td>27.0</td>\n",
       "      <td>1004.6</td>\n",
       "      <td>1003.2</td>\n",
       "      <td>NaN</td>\n",
       "      <td>NaN</td>\n",
       "      <td>23.0</td>\n",
       "      <td>26.1</td>\n",
       "      <td>No</td>\n",
       "    </tr>\n",
       "    <tr>\n",
       "      <th>24112</th>\n",
       "      <td>2017-06-10</td>\n",
       "      <td>NorfolkIsland</td>\n",
       "      <td>14.8</td>\n",
       "      <td>19.1</td>\n",
       "      <td>28.4</td>\n",
       "      <td>NaN</td>\n",
       "      <td>NaN</td>\n",
       "      <td>SE</td>\n",
       "      <td>52.0</td>\n",
       "      <td>ESE</td>\n",
       "      <td>SE</td>\n",
       "      <td>24.0</td>\n",
       "      <td>26.0</td>\n",
       "      <td>65.0</td>\n",
       "      <td>62.0</td>\n",
       "      <td>1020.9</td>\n",
       "      <td>1020.1</td>\n",
       "      <td>8.0</td>\n",
       "      <td>1.0</td>\n",
       "      <td>17.9</td>\n",
       "      <td>18.3</td>\n",
       "      <td>Yes</td>\n",
       "    </tr>\n",
       "  </tbody>\n",
       "</table>\n",
       "</div>"
      ],
      "text/plain": [
       "            date       location  mintemp  maxtemp  rainfall  evaporation  \\\n",
       "61160 2017-06-04        Bendigo     -0.9     13.5       0.2          NaN   \n",
       "73623 2013-10-08           Nhil      5.9     23.0       0.0          NaN   \n",
       "45964 2008-11-12       Canberra     11.1     30.4       0.0          7.8   \n",
       "28242 2012-01-11       Richmond     17.1     27.2       0.0          6.2   \n",
       "24112 2017-06-10  NorfolkIsland     14.8     19.1      28.4          NaN   \n",
       "\n",
       "       sunshine windgustdir  windgustspeed winddir9am winddir3pm  \\\n",
       "61160       NaN           W           20.0        NaN        WNW   \n",
       "73623       NaN         WSW           28.0          W        NNW   \n",
       "45964      11.6         ENE           39.0          E        WNW   \n",
       "28242       NaN         WSW           70.0        WNW        WSW   \n",
       "24112       NaN          SE           52.0        ESE         SE   \n",
       "\n",
       "       windspeed9am  windspeed3pm  humidity9am  humidity3pm  pressure9am  \\\n",
       "61160           0.0          11.0         98.0         53.0       1029.6   \n",
       "73623           6.0          11.0         90.0         49.0       1019.2   \n",
       "45964           2.0          11.0         59.0         19.0       1019.2   \n",
       "28242          11.0          37.0         37.0         27.0       1004.6   \n",
       "24112          24.0          26.0         65.0         62.0       1020.9   \n",
       "\n",
       "       pressure3pm  cloud9am  cloud3pm  temp9am  temp3pm raintoday  \n",
       "61160       1026.3       NaN       NaN      4.4     13.2        No  \n",
       "73623       1017.2       NaN       NaN     10.2     20.7        No  \n",
       "45964       1014.9       5.0       3.0     18.4     28.9        No  \n",
       "28242       1003.2       NaN       NaN     23.0     26.1        No  \n",
       "24112       1020.1       8.0       1.0     17.9     18.3       Yes  "
      ]
     },
     "execution_count": 183,
     "metadata": {},
     "output_type": "execute_result"
    }
   ],
   "source": [
    "# Selecting 5 random observations to look at from the dataset.\n",
    "X_train.sample(5, random_state=123)"
   ]
  },
  {
   "cell_type": "code",
   "execution_count": 184,
   "metadata": {},
   "outputs": [
    {
     "data": {
      "text/plain": [
       "Index(['date', 'location', 'mintemp', 'maxtemp', 'rainfall', 'evaporation',\n",
       "       'sunshine', 'windgustdir', 'windgustspeed', 'winddir9am', 'winddir3pm',\n",
       "       'windspeed9am', 'windspeed3pm', 'humidity9am', 'humidity3pm',\n",
       "       'pressure9am', 'pressure3pm', 'cloud9am', 'cloud3pm', 'temp9am',\n",
       "       'temp3pm', 'raintoday'],\n",
       "      dtype='object')"
      ]
     },
     "execution_count": 184,
     "metadata": {},
     "output_type": "execute_result"
    }
   ],
   "source": [
    "X_train.columns"
   ]
  },
  {
   "cell_type": "markdown",
   "metadata": {},
   "source": [
    "The dataset we are using seems to contain a wide variety of features, each with their own information. \n",
    "\n",
    "There is a mix of different types of data as well; date, numeric, categorical, boolean.\n",
    "\n",
    "Let's take a look at some distributions and varaible interactions."
   ]
  },
  {
   "cell_type": "code",
   "execution_count": 185,
   "metadata": {},
   "outputs": [
    {
     "data": {
      "text/plain": [
       "<AxesSubplot:ylabel='Frequency'>"
      ]
     },
     "execution_count": 185,
     "metadata": {},
     "output_type": "execute_result"
    },
    {
     "data": {
      "image/png": "[encoded data removed]",
      "text/plain": [
       "<Figure size 432x288 with 1 Axes>"
      ]
     },
     "metadata": {
      "needs_background": "light"
     },
     "output_type": "display_data"
    }
   ],
   "source": [
    "# Selecting a location and plotting some min and max temperatures.\n",
    "X_train[(X_train.location == 'Sydney')][['mintemp', 'maxtemp']].plot.hist(alpha=0.5, bins=100)"
   ]
  },
  {
   "cell_type": "code",
   "execution_count": 186,
   "metadata": {},
   "outputs": [
    {
     "data": {
      "text/plain": [
       "<AxesSubplot:ylabel='Frequency'>"
      ]
     },
     "execution_count": 186,
     "metadata": {},
     "output_type": "execute_result"
    },
    {
     "data": {
      "image/png": "[encoded data removed]",
      "text/plain": [
       "<Figure size 432x288 with 1 Axes>"
      ]
     },
     "metadata": {
      "needs_background": "light"
     },
     "output_type": "display_data"
    }
   ],
   "source": [
    "# Rainfall distribution is obviously very skewed...\n",
    "X_train[(X_train.location == 'Sydney')][['rainfall']].plot.hist(alpha=0.5, bins=100)"
   ]
  },
  {
   "cell_type": "code",
   "execution_count": 187,
   "metadata": {},
   "outputs": [
    {
     "data": {
      "text/plain": [
       "<AxesSubplot:ylabel='Frequency'>"
      ]
     },
     "execution_count": 187,
     "metadata": {},
     "output_type": "execute_result"
    },
    {
     "data": {
      "image/png": "[encoded data removed]",
      "text/plain": [
       "<Figure size 432x288 with 1 Axes>"
      ]
     },
     "metadata": {
      "needs_background": "light"
     },
     "output_type": "display_data"
    }
   ],
   "source": [
    "# .. and of course plenty of sunshine down under.\n",
    "X_train[(X_train.location == 'Sydney')][['sunshine']].plot.hist(alpha=0.5, bins=10)"
   ]
  },
  {
   "cell_type": "code",
   "execution_count": 188,
   "metadata": {},
   "outputs": [
    {
     "data": {
      "text/plain": [
       "W      0.370547\n",
       "WNW    0.150738\n",
       "SSW    0.054735\n",
       "Name: winddir9am, dtype: float64"
      ]
     },
     "execution_count": 188,
     "metadata": {},
     "output_type": "execute_result"
    }
   ],
   "source": [
    "# Morning wind goes westward.\n",
    "X_train[(X_train.location == 'Sydney')].winddir9am.value_counts(normalize=True)[:3]"
   ]
  },
  {
   "cell_type": "code",
   "execution_count": 189,
   "metadata": {},
   "outputs": [
    {
     "data": {
      "text/plain": [
       "E      0.181975\n",
       "ENE    0.110824\n",
       "NE     0.109530\n",
       "Name: winddir3pm, dtype: float64"
      ]
     },
     "execution_count": 189,
     "metadata": {},
     "output_type": "execute_result"
    }
   ],
   "source": [
    "# Wind seems to change direction in the afternoon. Of course this is could vary by season.\n",
    "X_train[(X_train.location == 'Sydney')].winddir3pm.value_counts(normalize=True)[:3]"
   ]
  },
  {
   "cell_type": "code",
   "execution_count": 190,
   "metadata": {},
   "outputs": [
    {
     "data": {
      "text/plain": [
       "No     0.736887\n",
       "Yes    0.263113\n",
       "Name: raintomorrow, dtype: float64"
      ]
     },
     "execution_count": 190,
     "metadata": {},
     "output_type": "execute_result"
    }
   ],
   "source": [
    "# In around 74% of Sydney's training set observations, it does not rain the next day.\n",
    "y_train.loc[X_train[(X_train.location == 'Sydney')].index].value_counts(normalize=True)"
   ]
  },
  {
   "cell_type": "code",
   "execution_count": 191,
   "metadata": {},
   "outputs": [
    {
     "data": {
      "text/html": [
       "<div>\n",
       "<style scoped>\n",
       "    .dataframe tbody tr th:only-of-type {\n",
       "        vertical-align: middle;\n",
       "    }\n",
       "\n",
       "    .dataframe tbody tr th {\n",
       "        vertical-align: top;\n",
       "    }\n",
       "\n",
       "    .dataframe thead th {\n",
       "        text-align: right;\n",
       "    }\n",
       "</style>\n",
       "<table border=\"1\" class=\"dataframe\">\n",
       "  <thead>\n",
       "    <tr style=\"text-align: right;\">\n",
       "      <th></th>\n",
       "      <th>rainfall</th>\n",
       "    </tr>\n",
       "    <tr>\n",
       "      <th>location</th>\n",
       "      <th></th>\n",
       "    </tr>\n",
       "  </thead>\n",
       "  <tbody>\n",
       "    <tr>\n",
       "      <th>Mildura</th>\n",
       "      <td>0.400000</td>\n",
       "    </tr>\n",
       "    <tr>\n",
       "      <th>AliceSprings</th>\n",
       "      <td>0.415652</td>\n",
       "    </tr>\n",
       "    <tr>\n",
       "      <th>Cobar</th>\n",
       "      <td>0.492308</td>\n",
       "    </tr>\n",
       "    <tr>\n",
       "      <th>Woomera</th>\n",
       "      <td>0.595763</td>\n",
       "    </tr>\n",
       "    <tr>\n",
       "      <th>Uluru</th>\n",
       "      <td>0.608451</td>\n",
       "    </tr>\n",
       "    <tr>\n",
       "      <th>WaggaWagga</th>\n",
       "      <td>0.616495</td>\n",
       "    </tr>\n",
       "    <tr>\n",
       "      <th>Nuriootpa</th>\n",
       "      <td>0.687121</td>\n",
       "    </tr>\n",
       "    <tr>\n",
       "      <th>Canberra</th>\n",
       "      <td>0.738596</td>\n",
       "    </tr>\n",
       "    <tr>\n",
       "      <th>Bendigo</th>\n",
       "      <td>0.788991</td>\n",
       "    </tr>\n",
       "    <tr>\n",
       "      <th>Sale</th>\n",
       "      <td>0.905512</td>\n",
       "    </tr>\n",
       "    <tr>\n",
       "      <th>Hobart</th>\n",
       "      <td>1.023810</td>\n",
       "    </tr>\n",
       "    <tr>\n",
       "      <th>Nhil</th>\n",
       "      <td>1.038655</td>\n",
       "    </tr>\n",
       "    <tr>\n",
       "      <th>Tuggeranong</th>\n",
       "      <td>1.066667</td>\n",
       "    </tr>\n",
       "    <tr>\n",
       "      <th>Launceston</th>\n",
       "      <td>1.189256</td>\n",
       "    </tr>\n",
       "    <tr>\n",
       "      <th>Albury</th>\n",
       "      <td>1.224615</td>\n",
       "    </tr>\n",
       "    <tr>\n",
       "      <th>MelbourneAirport</th>\n",
       "      <td>1.264000</td>\n",
       "    </tr>\n",
       "    <tr>\n",
       "      <th>Adelaide</th>\n",
       "      <td>1.307692</td>\n",
       "    </tr>\n",
       "    <tr>\n",
       "      <th>Dartmoor</th>\n",
       "      <td>1.408333</td>\n",
       "    </tr>\n",
       "    <tr>\n",
       "      <th>Albany</th>\n",
       "      <td>1.527358</td>\n",
       "    </tr>\n",
       "    <tr>\n",
       "      <th>Perth</th>\n",
       "      <td>1.571186</td>\n",
       "    </tr>\n",
       "    <tr>\n",
       "      <th>PerthAirport</th>\n",
       "      <td>1.641860</td>\n",
       "    </tr>\n",
       "    <tr>\n",
       "      <th>SalmonGums</th>\n",
       "      <td>1.652991</td>\n",
       "    </tr>\n",
       "    <tr>\n",
       "      <th>Watsonia</th>\n",
       "      <td>1.655738</td>\n",
       "    </tr>\n",
       "    <tr>\n",
       "      <th>PearceRAAF</th>\n",
       "      <td>1.661157</td>\n",
       "    </tr>\n",
       "    <tr>\n",
       "      <th>Melbourne</th>\n",
       "      <td>1.744262</td>\n",
       "    </tr>\n",
       "    <tr>\n",
       "      <th>MountGambier</th>\n",
       "      <td>1.766957</td>\n",
       "    </tr>\n",
       "    <tr>\n",
       "      <th>Penrith</th>\n",
       "      <td>1.829825</td>\n",
       "    </tr>\n",
       "    <tr>\n",
       "      <th>Portland</th>\n",
       "      <td>1.851969</td>\n",
       "    </tr>\n",
       "    <tr>\n",
       "      <th>MountGinini</th>\n",
       "      <td>1.853782</td>\n",
       "    </tr>\n",
       "    <tr>\n",
       "      <th>Moree</th>\n",
       "      <td>1.862121</td>\n",
       "    </tr>\n",
       "    <tr>\n",
       "      <th>Ballarat</th>\n",
       "      <td>1.920313</td>\n",
       "    </tr>\n",
       "    <tr>\n",
       "      <th>NorfolkIsland</th>\n",
       "      <td>2.163830</td>\n",
       "    </tr>\n",
       "    <tr>\n",
       "      <th>Witchcliffe</th>\n",
       "      <td>2.237500</td>\n",
       "    </tr>\n",
       "    <tr>\n",
       "      <th>Walpole</th>\n",
       "      <td>2.293846</td>\n",
       "    </tr>\n",
       "    <tr>\n",
       "      <th>Brisbane</th>\n",
       "      <td>2.612963</td>\n",
       "    </tr>\n",
       "    <tr>\n",
       "      <th>BadgerysCreek</th>\n",
       "      <td>3.267241</td>\n",
       "    </tr>\n",
       "    <tr>\n",
       "      <th>Richmond</th>\n",
       "      <td>3.487179</td>\n",
       "    </tr>\n",
       "    <tr>\n",
       "      <th>SydneyAirport</th>\n",
       "      <td>3.920690</td>\n",
       "    </tr>\n",
       "    <tr>\n",
       "      <th>Sydney</th>\n",
       "      <td>4.128000</td>\n",
       "    </tr>\n",
       "    <tr>\n",
       "      <th>Williamtown</th>\n",
       "      <td>4.130973</td>\n",
       "    </tr>\n",
       "    <tr>\n",
       "      <th>NorahHead</th>\n",
       "      <td>4.183333</td>\n",
       "    </tr>\n",
       "    <tr>\n",
       "      <th>Newcastle</th>\n",
       "      <td>4.274107</td>\n",
       "    </tr>\n",
       "    <tr>\n",
       "      <th>Wollongong</th>\n",
       "      <td>4.281416</td>\n",
       "    </tr>\n",
       "    <tr>\n",
       "      <th>Townsville</th>\n",
       "      <td>4.406612</td>\n",
       "    </tr>\n",
       "    <tr>\n",
       "      <th>GoldCoast</th>\n",
       "      <td>4.897600</td>\n",
       "    </tr>\n",
       "    <tr>\n",
       "      <th>Katherine</th>\n",
       "      <td>5.766372</td>\n",
       "    </tr>\n",
       "    <tr>\n",
       "      <th>Cairns</th>\n",
       "      <td>7.457600</td>\n",
       "    </tr>\n",
       "    <tr>\n",
       "      <th>CoffsHarbour</th>\n",
       "      <td>8.850806</td>\n",
       "    </tr>\n",
       "    <tr>\n",
       "      <th>Darwin</th>\n",
       "      <td>9.521260</td>\n",
       "    </tr>\n",
       "  </tbody>\n",
       "</table>\n",
       "</div>"
      ],
      "text/plain": [
       "                  rainfall\n",
       "location                  \n",
       "Mildura           0.400000\n",
       "AliceSprings      0.415652\n",
       "Cobar             0.492308\n",
       "Woomera           0.595763\n",
       "Uluru             0.608451\n",
       "WaggaWagga        0.616495\n",
       "Nuriootpa         0.687121\n",
       "Canberra          0.738596\n",
       "Bendigo           0.788991\n",
       "Sale              0.905512\n",
       "Hobart            1.023810\n",
       "Nhil              1.038655\n",
       "Tuggeranong       1.066667\n",
       "Launceston        1.189256\n",
       "Albury            1.224615\n",
       "MelbourneAirport  1.264000\n",
       "Adelaide          1.307692\n",
       "Dartmoor          1.408333\n",
       "Albany            1.527358\n",
       "Perth             1.571186\n",
       "PerthAirport      1.641860\n",
       "SalmonGums        1.652991\n",
       "Watsonia          1.655738\n",
       "PearceRAAF        1.661157\n",
       "Melbourne         1.744262\n",
       "MountGambier      1.766957\n",
       "Penrith           1.829825\n",
       "Portland          1.851969\n",
       "MountGinini       1.853782\n",
       "Moree             1.862121\n",
       "Ballarat          1.920313\n",
       "NorfolkIsland     2.163830\n",
       "Witchcliffe       2.237500\n",
       "Walpole           2.293846\n",
       "Brisbane          2.612963\n",
       "BadgerysCreek     3.267241\n",
       "Richmond          3.487179\n",
       "SydneyAirport     3.920690\n",
       "Sydney            4.128000\n",
       "Williamtown       4.130973\n",
       "NorahHead         4.183333\n",
       "Newcastle         4.274107\n",
       "Wollongong        4.281416\n",
       "Townsville        4.406612\n",
       "GoldCoast         4.897600\n",
       "Katherine         5.766372\n",
       "Cairns            7.457600\n",
       "CoffsHarbour      8.850806\n",
       "Darwin            9.521260"
      ]
     },
     "execution_count": 191,
     "metadata": {},
     "output_type": "execute_result"
    }
   ],
   "source": [
    "# It seems like Mildura caught the least amound of rainfall in 2017, while Darwin is more than 10 times as wet!\n",
    "X_train[(X_train.date.dt.year == 2017)].groupby([X_train.location]).agg({'rainfall':np.mean}).sort_values('rainfall')"
   ]
  },
  {
   "cell_type": "markdown",
   "metadata": {},
   "source": [
    "# 2.0 Data Preprocessing"
   ]
  },
  {
   "cell_type": "markdown",
   "metadata": {},
   "source": [
    "# 2.1 Missing Values"
   ]
  },
  {
   "cell_type": "markdown",
   "metadata": {},
   "source": [
    "Before we train our models we need to make sure that our data is as complete as possible. Let's take a look at missing values first."
   ]
  },
  {
   "cell_type": "code",
   "execution_count": 192,
   "metadata": {},
   "outputs": [
    {
     "data": {
      "text/plain": [
       "date                 0\n",
       "location             0\n",
       "mintemp            440\n",
       "maxtemp            227\n",
       "rainfall           980\n",
       "evaporation      42483\n",
       "sunshine         47417\n",
       "windgustdir       6569\n",
       "windgustspeed     6528\n",
       "winddir9am        7009\n",
       "winddir3pm        2642\n",
       "windspeed9am       937\n",
       "windspeed3pm      1852\n",
       "humidity9am       1248\n",
       "humidity3pm       2541\n",
       "pressure9am       9730\n",
       "pressure3pm       9706\n",
       "cloud9am         37514\n",
       "cloud3pm         39890\n",
       "temp9am            625\n",
       "temp3pm           1913\n",
       "raintoday          980\n",
       "dtype: int64"
      ]
     },
     "execution_count": 192,
     "metadata": {},
     "output_type": "execute_result"
    }
   ],
   "source": [
    "# Some missing values in almost all columns...\n",
    "X_train.isna().sum()"
   ]
  },
  {
   "cell_type": "code",
   "execution_count": 193,
   "metadata": {},
   "outputs": [
    {
     "data": {
      "text/plain": [
       "date              0.0\n",
       "location          0.0\n",
       "mintemp           0.4\n",
       "maxtemp           0.2\n",
       "rainfall          1.0\n",
       "evaporation      42.7\n",
       "sunshine         47.6\n",
       "windgustdir       6.6\n",
       "windgustspeed     6.6\n",
       "winddir9am        7.0\n",
       "winddir3pm        2.7\n",
       "windspeed9am      0.9\n",
       "windspeed3pm      1.9\n",
       "humidity9am       1.3\n",
       "humidity3pm       2.6\n",
       "pressure9am       9.8\n",
       "pressure3pm       9.8\n",
       "cloud9am         37.7\n",
       "cloud3pm         40.1\n",
       "temp9am           0.6\n",
       "temp3pm           1.9\n",
       "raintoday         1.0\n",
       "dtype: float64"
      ]
     },
     "execution_count": 193,
     "metadata": {},
     "output_type": "execute_result"
    }
   ],
   "source": [
    "# Same as above but now in percentages\n",
    "round(X_train.isna().mean(),3) * 100"
   ]
  },
  {
   "cell_type": "markdown",
   "metadata": {},
   "source": [
    "The columns `evaporation`, `sunshine`, `cloud9am` and `cloud3pm` appear to be the biggest missing data culprits. \n",
    "\n",
    "We'll try and solve this issue by using a mix of approaches for both categorical and numerical variables."
   ]
  },
  {
   "cell_type": "code",
   "execution_count": 194,
   "metadata": {},
   "outputs": [],
   "source": [
    "# First the categorical variables, we'll exclude location as it doesn't contain missing values\n",
    "categorical = [col for col in X_train.columns if X_train[col].dtypes == 'O' and col != 'location']"
   ]
  },
  {
   "cell_type": "code",
   "execution_count": 195,
   "metadata": {},
   "outputs": [],
   "source": [
    "# We replace the missing values with an 'Unknown' tag\n",
    "for col in categorical:\n",
    "        X_train[col] = X_train[col].replace(np.nan, 'Unknown')\n",
    "\n",
    "# Let's also do the same for our test set\n",
    "for col in categorical:\n",
    "        X_test[col] = X_test[col].replace(np.nan, 'Unknown')"
   ]
  },
  {
   "cell_type": "markdown",
   "metadata": {},
   "source": [
    "As for our numerical variables, we will assign the variable's median to missing values in the training set.\n",
    "\n",
    "We will see later how this logic can be packaged into a preprocessing pipeline, which we can also use to preprocess our test data.\n",
    "\n",
    "Before we continue there is some feature engineering we have to do. Our `date` variable needs to be encoded in a way that the model can process."
   ]
  },
  {
   "cell_type": "markdown",
   "metadata": {},
   "source": [
    "# 2.2 Feature Engineering"
   ]
  },
  {
   "cell_type": "code",
   "execution_count": 196,
   "metadata": {},
   "outputs": [],
   "source": [
    "# Creating new features based on the date column\n",
    "X_train['day'] = X_train['date'].dt.day\n",
    "X_train['month'] = X_train['date'].dt.month\n",
    "X_train['year'] = X_train['date'].dt.year\n",
    "\n",
    "# Dropping the date variable as the model can't interpret it\n",
    "X_train = X_train.drop(columns = ['date'])"
   ]
  },
  {
   "cell_type": "code",
   "execution_count": 197,
   "metadata": {},
   "outputs": [],
   "source": [
    "# Let's also do the same for the test data\n",
    "X_test['day'] = X_test['date'].dt.day\n",
    "X_test['month'] = X_test['date'].dt.month\n",
    "X_test['year'] = X_test['date'].dt.year\n",
    "\n",
    "X_test = X_test.drop(columns = ['date'])"
   ]
  },
  {
   "cell_type": "markdown",
   "metadata": {},
   "source": [
    "In case your model is a continuous regressor be sure to covert your time-related features to cyclical variables.\n",
    "\n",
    "In our case we'll be using a Random Forest model to try and forecast the target, which does not require cyclical time features.\n",
    "\n",
    "Now we can finish our preprocessing pipelines and apply them to both the train and test datasets."
   ]
  },
  {
   "cell_type": "code",
   "execution_count": 198,
   "metadata": {},
   "outputs": [],
   "source": [
    "# Create a one-hot encoder for categorical variables\n",
    "encoder = OneHotEncoder(handle_unknown='error', drop='first', sparse=True)\n",
    "\n",
    "# And then add it to the pipeline for categorical variables\n",
    "cat_transformer = Pipeline(steps=[('onehot', encoder)])"
   ]
  },
  {
   "cell_type": "code",
   "execution_count": 199,
   "metadata": {},
   "outputs": [],
   "source": [
    "# Create an imputer for filling in missing values in continuous variables with their corresponding median\n",
    "imputer = SimpleImputer(missing_values = np.nan, strategy=\"median\")\n",
    "\n",
    "# Initiate a scaler as well for scaling our continuous variables\n",
    "scaler = RobustScaler()\n",
    "\n",
    "# And then adding both the imputer and scaler to our pipeline for continuous variables\n",
    "num_transformer = Pipeline(steps = [\n",
    "    ('imputer', imputer),\n",
    "    ('scaler', scaler)\n",
    "])"
   ]
  },
  {
   "cell_type": "code",
   "execution_count": 200,
   "metadata": {},
   "outputs": [],
   "source": [
    "# Defining our categorical and numerical variables\n",
    "categorical = [var for var in X_train.columns if X_train[var].dtype=='O']\n",
    "numerical = [var for var in X_train.columns if X_train[var].dtype!='O']"
   ]
  },
  {
   "cell_type": "code",
   "execution_count": 201,
   "metadata": {},
   "outputs": [],
   "source": [
    "# Finally combining both categorical and numerical pipelines into one final object\n",
    "preprocessor = ColumnTransformer(\n",
    "    transformers=[\n",
    "        ('num', num_transformer, numerical),\n",
    "        ('cat', cat_transformer, categorical)\n",
    "    ],remainder='passthrough')"
   ]
  },
  {
   "cell_type": "markdown",
   "metadata": {},
   "source": [
    "Let's also build a pipeline for encoding our target variable while we're at it.\n",
    "\n",
    "Usually most models will do this step for you, but doing it ourselves allows us to apply the same encoding across all models we may deploy in the future."
   ]
  },
  {
   "cell_type": "code",
   "execution_count": 202,
   "metadata": {},
   "outputs": [],
   "source": [
    "# Initiating a label encorder, so we can go from 'Yes' and 'No' labels to 1s and 0s\n",
    "le = LabelEncoder()\n",
    "y_train = le.fit_transform(y_train)"
   ]
  },
  {
   "cell_type": "markdown",
   "metadata": {},
   "source": [
    "Building pipelines like this is handy as they can be used directly during training to apply the preprocessing steps to both train and test data.\n",
    "\n",
    "Let's move on to training a model"
   ]
  },
  {
   "cell_type": "markdown",
   "metadata": {},
   "source": [
    "# 3.0 Model Training"
   ]
  },
  {
   "cell_type": "markdown",
   "metadata": {},
   "source": [
    "# 3.1 Random Forest"
   ]
  },
  {
   "cell_type": "markdown",
   "metadata": {},
   "source": [
    "For the purposes of this course we will stick to a single Random Forest model. "
   ]
  },
  {
   "cell_type": "code",
   "execution_count": 203,
   "metadata": {},
   "outputs": [],
   "source": [
    "# Using a simple RF classifier\n",
    "rf_classifier = RandomForestClassifier()"
   ]
  },
  {
   "cell_type": "code",
   "execution_count": 204,
   "metadata": {},
   "outputs": [],
   "source": [
    "# Building our final pipeline\n",
    "pipe = make_pipeline(preprocessor, rf_classifier)"
   ]
  },
  {
   "cell_type": "markdown",
   "metadata": {},
   "source": [
    "Let's also run our pipeline through a grid search to tune the Random Forest model's hyperparameters."
   ]
  },
  {
   "cell_type": "code",
   "execution_count": 205,
   "metadata": {},
   "outputs": [],
   "source": [
    "# Declaring a small parameter grid for our grid search\n",
    "param_grid = {\n",
    "    'randomforestclassifier__max_depth': [10, 50, 100],\n",
    "    'randomforestclassifier__min_samples_split': [2, 5, 10],\n",
    "    'randomforestclassifier__min_samples_leaf': [1, 2, 4]\n",
    "}"
   ]
  },
  {
   "cell_type": "code",
   "execution_count": 206,
   "metadata": {},
   "outputs": [],
   "source": [
    "cv = RandomizedSearchCV(pipe, param_distributions = param_grid, n_iter = 1, cv = 5, verbose=2, random_state=42, n_jobs = -1)"
   ]
  },
  {
   "cell_type": "code",
   "execution_count": 207,
   "metadata": {},
   "outputs": [
    {
     "name": "stdout",
     "output_type": "stream",
     "text": [
      "Fitting 5 folds for each of 1 candidates, totalling 5 fits\n",
      "[CV] END randomforestclassifier__max_depth=10, randomforestclassifier__min_samples_leaf=4, randomforestclassifier__min_samples_split=10; total time=  19.4s\n",
      "[CV] END randomforestclassifier__max_depth=10, randomforestclassifier__min_samples_leaf=4, randomforestclassifier__min_samples_split=10; total time=  19.7s\n",
      "[CV] END randomforestclassifier__max_depth=10, randomforestclassifier__min_samples_leaf=4, randomforestclassifier__min_samples_split=10; total time=  19.7s\n",
      "[CV] END randomforestclassifier__max_depth=10, randomforestclassifier__min_samples_leaf=4, randomforestclassifier__min_samples_split=10; total time=  19.7s\n",
      "[CV] END randomforestclassifier__max_depth=10, randomforestclassifier__min_samples_leaf=4, randomforestclassifier__min_samples_split=10; total time=  20.0s\n"
     ]
    },
    {
     "data": {
      "text/plain": [
       "RandomizedSearchCV(cv=5,\n",
       "                   estimator=Pipeline(steps=[('columntransformer',\n",
       "                                              ColumnTransformer(remainder='passthrough',\n",
       "                                                                transformers=[('num',\n",
       "                                                                               Pipeline(steps=[('imputer',\n",
       "                                                                                                SimpleImputer(strategy='median')),\n",
       "                                                                                               ('scaler',\n",
       "                                                                                                RobustScaler())]),\n",
       "                                                                               ['mintemp',\n",
       "                                                                                'maxtemp',\n",
       "                                                                                'rainfall',\n",
       "                                                                                'evaporation',\n",
       "                                                                                'sunshine',\n",
       "                                                                                'windgustspeed',\n",
       "                                                                                'windspeed9am',\n",
       "                                                                                'windspeed3pm',\n",
       "                                                                                'humidity9am',\n",
       "                                                                                'humidity3...\n",
       "                                                                                                              sparse='True'))]),\n",
       "                                                                               ['location',\n",
       "                                                                                'windgustdir',\n",
       "                                                                                'winddir9am',\n",
       "                                                                                'winddir3pm',\n",
       "                                                                                'raintoday'])])),\n",
       "                                             ('randomforestclassifier',\n",
       "                                              RandomForestClassifier())]),\n",
       "                   n_iter=1, n_jobs=-1,\n",
       "                   param_distributions={'randomforestclassifier__max_depth': [10,\n",
       "                                                                              50,\n",
       "                                                                              100],\n",
       "                                        'randomforestclassifier__min_samples_leaf': [1,\n",
       "                                                                                     2,\n",
       "                                                                                     4],\n",
       "                                        'randomforestclassifier__min_samples_split': [2,\n",
       "                                                                                      5,\n",
       "                                                                                      10]},\n",
       "                   random_state=42, verbose=2)"
      ]
     },
     "execution_count": 207,
     "metadata": {},
     "output_type": "execute_result"
    }
   ],
   "source": [
    "cv.fit(X_train, y_train)"
   ]
  },
  {
   "cell_type": "markdown",
   "metadata": {},
   "source": [
    "# 3.2 Model Evaluation"
   ]
  },
  {
   "cell_type": "markdown",
   "metadata": {},
   "source": [
    "Now it's time to evaluate the performance of our model.\n",
    "\n",
    "In this case we'll be using `accuracy` to define model performance."
   ]
  },
  {
   "cell_type": "code",
   "execution_count": 208,
   "metadata": {},
   "outputs": [
    {
     "data": {
      "text/plain": [
       "0.8415537531060997"
      ]
     },
     "execution_count": 208,
     "metadata": {},
     "output_type": "execute_result"
    }
   ],
   "source": [
    "# First we encode the test labels using the same labelencoder as before\n",
    "y_test = le.transform(y_test)\n",
    "\n",
    "# We can use our cross-validated random search object to call the best model and have our entire pipeline applied to the test set as well\n",
    "y_pred= cv.best_estimator_.predict(X_test)\n",
    "accuracy_score(y_test, y_pred)"
   ]
  },
  {
   "cell_type": "code",
   "execution_count": 218,
   "metadata": {},
   "outputs": [
    {
     "data": {
      "text/plain": [
       "array(['No', 'Yes'], dtype=object)"
      ]
     },
     "execution_count": 218,
     "metadata": {},
     "output_type": "execute_result"
    }
   ],
   "source": [
    "le.classes_"
   ]
  },
  {
   "cell_type": "code",
   "execution_count": 219,
   "metadata": {},
   "outputs": [
    {
     "data": {
      "text/plain": [
       "[Text(0, 0.5, 'No'), Text(0, 1.5, 'Yes')]"
      ]
     },
     "execution_count": 219,
     "metadata": {},
     "output_type": "execute_result"
    },
    {
     "data": {
      "image/png": "[encoded data removed]",
      "text/plain": [
       "<Figure size 432x288 with 2 Axes>"
      ]
     },
     "metadata": {
      "needs_background": "light"
     },
     "output_type": "display_data"
    }
   ],
   "source": [
    "# Taking a look at the confusion matrix for our model\n",
    "ax= plt.subplot()\n",
    "sns.heatmap(confusion_matrix(y_test, y_pred), annot=True, fmt='g', ax=ax)\n",
    "\n",
    "ax.set_xlabel('Predicted labels');ax.set_ylabel('True labels')\n",
    "ax.set_title('Confusion Matrix')\n",
    "ax.xaxis.set_ticklabels(le.classes_); ax.yaxis.set_ticklabels(le.classes_)"
   ]
  },
  {
   "cell_type": "code",
   "execution_count": 210,
   "metadata": {},
   "outputs": [
    {
     "name": "stdout",
     "output_type": "stream",
     "text": [
      "              precision    recall  f1-score   support\n",
      "\n",
      "           0       0.85      0.97      0.90     33117\n",
      "           1       0.79      0.39      0.53      9541\n",
      "\n",
      "    accuracy                           0.84     42658\n",
      "   macro avg       0.82      0.68      0.72     42658\n",
      "weighted avg       0.84      0.84      0.82     42658\n",
      "\n"
     ]
    }
   ],
   "source": [
    "# A quick report to see the preicision, recall and f1-score metrics of our model\n",
    "print(classification_report(y_test, y_pred))"
   ]
  },
  {
   "cell_type": "markdown",
   "metadata": {},
   "source": [
    "# 4.0 Storing Models"
   ]
  },
  {
   "cell_type": "markdown",
   "metadata": {},
   "source": [
    "Now that we have trained our model, let's store it so that we can use it later in production.\n",
    "\n",
    "This includes the labelencoder we used earlier."
   ]
  },
  {
   "cell_type": "code",
   "execution_count": 222,
   "metadata": {},
   "outputs": [],
   "source": [
    "# Using the pickle library to save our models\n",
    "p.dump(le, open('../models/label_encoder.pickle', 'wb'))\n",
    "p.dump(cv.best_estimator_, open('../models/random_forest_classifier.pickle', 'wb'))"
   ]
  }
 ],
 "metadata": {
  "kernelspec": {
   "display_name": "Python 3.10.8 64-bit",
   "language": "python",
   "name": "python3"
  },
  "language_info": {
   "codemirror_mode": {
    "name": "ipython",
    "version": 3
   },
   "file_extension": ".py",
   "mimetype": "text/x-python",
   "name": "python",
   "nbconvert_exporter": "python",
   "pygments_lexer": "ipython3",
   "version": "3.10.8"
  },
  "orig_nbformat": 4,
  "vscode": {
   "interpreter": {
    "hash": "b0fa6594d8f4cbf19f97940f81e996739fb7646882a419484c72d19e05852a7e"
   }
  }
 },
 "nbformat": 4,
 "nbformat_minor": 2
}
